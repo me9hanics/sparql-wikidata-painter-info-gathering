{
 "cells": [
  {
   "cell_type": "markdown",
   "metadata": {},
   "source": [
    "# Wikidata SparQL queries framework examples\n",
    "\n",
    "We just need to import the helper functions and we can start querying Wikidata with simple functions instead of writing long SparQL queries."
   ]
  },
  {
   "cell_type": "code",
   "execution_count": 1,
   "metadata": {},
   "outputs": [],
   "source": [
    "import functions as f"
   ]
  },
  {
   "cell_type": "markdown",
   "metadata": {},
   "source": [
    "## Get the information of one human from Wikidata\n",
    "\n",
    "(other options are *get_person_info* and *get_person_locations* which include less information)"
   ]
  },
  {
   "cell_type": "code",
   "execution_count": 2,
   "metadata": {},
   "outputs": [],
   "source": [
    "van_gogh_response = f.get_all_person_info(\"Van Gogh\")"
   ]
  },
  {
   "cell_type": "markdown",
   "metadata": {},
   "source": [
    "Print some information from the dictionary:"
   ]
  },
  {
   "cell_type": "code",
   "execution_count": 3,
   "metadata": {},
   "outputs": [
    {
     "name": "stdout",
     "output_type": "stream",
     "text": [
      "Birthplace: Zundert, deathplace: Auvers-sur-Oise\n",
      "Birthyear: 1853, deathdate: 1890\n",
      "Gender: male, citizenship: Kingdom of the Netherlands, occupations: 'drawer', 'printmaker', 'painter'\n",
      "\n",
      "Work locations:\n",
      "Saint-Rémy-de-Provence, between 1889-1890\n",
      "The Hague, between 1881-1883 and 1869-1873\n",
      "Ramsgate, between 1876-1876\n",
      "City of Brussels, between 1880-1881\n",
      "Etten-Leur, between 1881-1881 and 1876-1876\n",
      "Dordrecht, between 1877-1877\n",
      "Nuenen, between 1883-1885\n",
      "Paris, between 1875-1876 and 1886-1888\n",
      "Auvers-sur-Oise, between 1890-1890\n",
      "Van Gogh House, between 1883-1883\n",
      "London, between 1873-1875\n",
      "Amsterdam, between 1877-1878\n",
      "Arles, between 1888-1889\n",
      "Hoogeveen, between 1883-1883\n",
      "Antwerp, between 1885-1886\n",
      "Borinage, between 1878-1879\n",
      "Tilburg, between 1866-1868\n",
      "Maison Van Gogh, between 1879-1880\n"
     ]
    }
   ],
   "source": [
    "print(f\"Birthplace: {van_gogh_response['birth_place']}, deathplace: {van_gogh_response['death_place']}\")\n",
    "print(f\"Birthyear: {f.find_year(van_gogh_response['birth_date'])}, deathdate: {f.find_year(van_gogh_response['death_date'])}\")\n",
    "print(f\"Gender: {van_gogh_response['gender']}, citizenship: {van_gogh_response['citizenship']}, occupations: {str(van_gogh_response['occupation']).strip('[]')}\")\n",
    "print(); print(\"Work locations:\")\n",
    "\n",
    "places_str = f.get_places_with_years_from_response(van_gogh_response)\n",
    "places_list = f.stringlist_to_list(places_str)\n",
    "for place in places_list:\n",
    "    name,period = place.replace(\",\",\" and \").split(\":\")\n",
    "    print(f\"{name}, between {period}\")"
   ]
  },
  {
   "cell_type": "markdown",
   "metadata": {},
   "source": [
    "**NOTE**: It is generally recommended to rather use `get_all_person_info_improved`, as that restricts to humans in queries (in some cases, a name might return a statue or a building, not the person)."
   ]
  },
  {
   "cell_type": "markdown",
   "metadata": {},
   "source": [
    "Now, on something bigger, using artists from the [PainterPalette](https://github.com/me9hanics/PainterPalette) dataset, let's select a few artists and collect temporal and geographical information about them, such as birth and death dates and places, and locations, with years:"
   ]
  },
  {
   "cell_type": "code",
   "execution_count": 5,
   "metadata": {},
   "outputs": [
    {
     "data": {
      "text/html": [
       "<div>\n",
       "<style scoped>\n",
       "    .dataframe tbody tr th:only-of-type {\n",
       "        vertical-align: middle;\n",
       "    }\n",
       "\n",
       "    .dataframe tbody tr th {\n",
       "        vertical-align: top;\n",
       "    }\n",
       "\n",
       "    .dataframe thead th {\n",
       "        text-align: right;\n",
       "    }\n",
       "</style>\n",
       "<table border=\"1\" class=\"dataframe\">\n",
       "  <thead>\n",
       "    <tr style=\"text-align: right;\">\n",
       "      <th></th>\n",
       "      <th>artist</th>\n",
       "      <th>movement</th>\n",
       "      <th>styles_extended</th>\n",
       "      <th>birth_place</th>\n",
       "      <th>birth_year</th>\n",
       "      <th>death_year</th>\n",
       "      <th>death_place</th>\n",
       "      <th>gender</th>\n",
       "      <th>citizenship</th>\n",
       "      <th>occupations</th>\n",
       "      <th>locations</th>\n",
       "      <th>locations_with_years</th>\n",
       "    </tr>\n",
       "  </thead>\n",
       "  <tbody>\n",
       "    <tr>\n",
       "      <th>997</th>\n",
       "      <td>Rembrandt</td>\n",
       "      <td>Baroque</td>\n",
       "      <td>{Baroque:587},{Tenebrism:128},{Unknown:52}</td>\n",
       "      <td>Leiden</td>\n",
       "      <td>1606.0</td>\n",
       "      <td>1669.0</td>\n",
       "      <td>Amsterdam</td>\n",
       "      <td>male</td>\n",
       "      <td>Dutch Republic</td>\n",
       "      <td>painter, collector, art collector, etcher, pri...</td>\n",
       "      <td>['Amsterdam', 'Leiden']</td>\n",
       "      <td>['Amsterdam:1623-1625,1631-1669', 'Leiden:1625...</td>\n",
       "    </tr>\n",
       "    <tr>\n",
       "      <th>1046</th>\n",
       "      <td>Vincent van Gogh</td>\n",
       "      <td>Post-Impressionism</td>\n",
       "      <td>{Cloisonnism:11},{Impressionism:2},{Japonism:1...</td>\n",
       "      <td>Zundert</td>\n",
       "      <td>1853.0</td>\n",
       "      <td>1874.0</td>\n",
       "      <td>Breda</td>\n",
       "      <td>male</td>\n",
       "      <td>Kingdom of the Netherlands</td>\n",
       "      <td>painter, printmaker, drawer, art dealer</td>\n",
       "      <td>['Saint-Rémy-de-Provence', 'The Hague', 'Ramsg...</td>\n",
       "      <td>['Saint-Rémy-de-Provence:1889-1890', 'The Hagu...</td>\n",
       "    </tr>\n",
       "    <tr>\n",
       "      <th>2459</th>\n",
       "      <td>Rembrandt Peale</td>\n",
       "      <td>Neoclassicism</td>\n",
       "      <td>{Neoclassicism:85},{Romanticism:1},{Unknown:1}</td>\n",
       "      <td>Pennsylvania</td>\n",
       "      <td>1778.0</td>\n",
       "      <td>1860.0</td>\n",
       "      <td>Philadelphia</td>\n",
       "      <td>male</td>\n",
       "      <td>United States of America</td>\n",
       "      <td>printmaker</td>\n",
       "      <td>['Boston', 'London', 'Baltimore', 'Washington,...</td>\n",
       "      <td>[]</td>\n",
       "    </tr>\n",
       "  </tbody>\n",
       "</table>\n",
       "</div>"
      ],
      "text/plain": [
       "                artist            movement  \\\n",
       "997          Rembrandt             Baroque   \n",
       "1046  Vincent van Gogh  Post-Impressionism   \n",
       "2459   Rembrandt Peale       Neoclassicism   \n",
       "\n",
       "                                        styles_extended   birth_place  \\\n",
       "997          {Baroque:587},{Tenebrism:128},{Unknown:52}        Leiden   \n",
       "1046  {Cloisonnism:11},{Impressionism:2},{Japonism:1...       Zundert   \n",
       "2459     {Neoclassicism:85},{Romanticism:1},{Unknown:1}  Pennsylvania   \n",
       "\n",
       "      birth_year  death_year   death_place gender                 citizenship  \\\n",
       "997       1606.0      1669.0     Amsterdam   male              Dutch Republic   \n",
       "1046      1853.0      1874.0         Breda   male  Kingdom of the Netherlands   \n",
       "2459      1778.0      1860.0  Philadelphia   male    United States of America   \n",
       "\n",
       "                                            occupations  \\\n",
       "997   painter, collector, art collector, etcher, pri...   \n",
       "1046            painter, printmaker, drawer, art dealer   \n",
       "2459                                         printmaker   \n",
       "\n",
       "                                              locations  \\\n",
       "997                             ['Amsterdam', 'Leiden']   \n",
       "1046  ['Saint-Rémy-de-Provence', 'The Hague', 'Ramsg...   \n",
       "2459  ['Boston', 'London', 'Baltimore', 'Washington,...   \n",
       "\n",
       "                                   locations_with_years  \n",
       "997   ['Amsterdam:1623-1625,1631-1669', 'Leiden:1625...  \n",
       "1046  ['Saint-Rémy-de-Provence:1889-1890', 'The Hagu...  \n",
       "2459                                                 []  "
      ]
     },
     "execution_count": 5,
     "metadata": {},
     "output_type": "execute_result"
    }
   ],
   "source": [
    "import pandas as pd\n",
    "import numpy as np\n",
    "\n",
    "artists_wikiart = pd.read_csv(\"https://raw.githubusercontent.com/me9hanics/PainterPalette/main/datasets/wikiart_artists.csv\")\n",
    "artists_wikiart[\"death_place\"] = None #None for strings\n",
    "artists_wikiart[\"death_year\"] = np.nan #NaN for floats\n",
    "artists_wikiart[\"locations\"] = None #This is to not have warnings from pandas.\n",
    "artists_wikiart[\"locations_with_years\"] = None\n",
    "\n",
    "examples = artists_wikiart[(artists_wikiart[\"artist\"]==\"Vincent van Gogh\") | (artists_wikiart[\"artist\"].str.contains(\"Rembrandt\"))] #3 artists\n",
    "\n",
    "for index, artist in examples[\"artist\"].items():\n",
    "    response = f.get_person_info(artist)\n",
    "    if response is None:\n",
    "        print(f\"Could not find {artist}\")\n",
    "        continue\n",
    "\n",
    "    examples.loc[index, \"death_place\"] = response.get(\"death_place\")\n",
    "    examples.loc[index, \"death_year\"] = f.find_year(response.get(\"death_date\"))\n",
    "    examples.loc[index, \"locations\"] = f.get_places_from_response(response)\n",
    "    examples.loc[index, \"locations_with_years\"] = f.get_places_with_years_from_response(response)\n",
    "\n",
    "    if examples.loc[index, \"death_place\"] is None:\n",
    "        print(f\"Could not find death place for {artist}\")\n",
    "    if examples.loc[index, \"death_year\"] is None:\n",
    "        print(f\"Could not find death year for {artist}\")\n",
    "    if examples.loc[index, \"locations\"] is None:\n",
    "        print(f\"Could not find locations for {artist}\")\n",
    "    if examples.loc[index, \"locations_with_years\"] is None:\n",
    "        print(f\"Could not find locations with years for {artist}\")\n",
    "\n",
    "examples.drop(columns=[\"pictures_count\",\"styles\"])"
   ]
  },
  {
   "cell_type": "markdown",
   "metadata": {},
   "source": [
    "## Querying multiple people with one request\n",
    "\n",
    "Functions such as `get_multiple_people_all_info` query names with 1 query, which speeds up the process but can miss instances.<br>\n",
    "For this, we can use `get_multiple_people_all_info_fast_retry_missing` which for the missing instances, retries with a separate query for each, as we did before. Afterwards, for any still missing instance, it checks for instances in different languages.\n",
    "\n",
    "This gathers theoretically the same or better results as using `get_all_person_info` for each person separately, but this method first checks for human instances, tries in different languages and with many matches can be considerably faster.<br>\n",
    "(Note that Wikidata also has limits for the amount of queries per minute, and this requires much less queries.)"
   ]
  },
  {
   "cell_type": "code",
   "execution_count": 6,
   "metadata": {},
   "outputs": [],
   "source": [
    "example_names = [\"Bracha L. Ettinger\", \"M.F. Husain\", \"Gerhard von Graevenitz\", \"Karl Schmidt-Rottluff\", \"Inigo Manglano-Ovalle\", \"Jean-Pierre Raynaud\",\n",
    "                 \"Laszlo Moholy-Nagy\", \"Jose de Guimaraes\", \"Beatriz González\", \"John McLaughlin\", \"Angelo de Sousa\", \"J.M.W. Turner\", \"Ha Chong-Hyun\",\n",
    "                 \"Lee Quinones\", \"LeRoy Neiman\", \"Ayse Erkmen\", \"Jay DeFeo\", \"JCJ Vanderheyden\", \"Li Yuan-chia\", \"Ding Yi\", \"Ad Reinhardt\", \"Alexander Calder\",\n",
    "                 \"Alexander Rodchenko\", \"Alexej von Jawlensky\", \"Anni Albers\", \"Anthony Caro\", \"Beauford Delaney\", \"Clyfford Still\", \"David Smith\", \"Eduardo Chillida\",\n",
    "                 \"Erik Bulatov\", \"Francis Picabia\", \"Franz Marc\", \"Giacomo Balla\", \"Hans Richter\", \"Henri Matisse\", \"Henry Moore\", \"Hilma af Klint\", \"Jean Arp\"]\n",
    "\n",
    "example_returns = f.get_multiple_people_all_info_fast_retry_missing(example_names)"
   ]
  },
  {
   "cell_type": "code",
   "execution_count": 7,
   "metadata": {},
   "outputs": [
    {
     "data": {
      "text/plain": [
       "[{'name': 'Gerhard von Graevenitz',\n",
       "  'birth_place': 'Schilde',\n",
       "  'birth_date': '1934-09-19T00:00:00Z',\n",
       "  'death_date': '1983-08-20T00:00:00Z',\n",
       "  'death_place': 'Switzerland',\n",
       "  'gender': 'male',\n",
       "  'citizenship': 'Germany',\n",
       "  'occupation': ['painter', 'photographer'],\n",
       "  'work_locations': [{'location': 'Amsterdam',\n",
       "    'start_time': None,\n",
       "    'end_time': None,\n",
       "    'point_in_time': '1970-01-01T00:00:00Z'}]},\n",
       " {'name': 'Karl Schmidt-Rottluff',\n",
       "  'birth_place': 'Rottluff',\n",
       "  'birth_date': '1884-12-01T00:00:00Z',\n",
       "  'death_date': '1976-08-10T00:00:00Z',\n",
       "  'death_place': 'West Berlin',\n",
       "  'gender': 'male',\n",
       "  'citizenship': 'Germany',\n",
       "  'occupation': ['lithographer',\n",
       "   'drawer',\n",
       "   'art collector',\n",
       "   'designer',\n",
       "   'graphic artist',\n",
       "   'university teacher',\n",
       "   'sculptor',\n",
       "   'painter',\n",
       "   'Q686932',\n",
       "   'illustrator'],\n",
       "  'work_locations': []}]"
      ]
     },
     "execution_count": 7,
     "metadata": {},
     "output_type": "execute_result"
    }
   ],
   "source": [
    "example_returns[:2]"
   ]
  },
  {
   "cell_type": "markdown",
   "metadata": {},
   "source": [
    "Let's see how many artists we did not gather information for:"
   ]
  },
  {
   "cell_type": "code",
   "execution_count": 8,
   "metadata": {},
   "outputs": [
    {
     "name": "stdout",
     "output_type": "stream",
     "text": [
      "Found 37 artists\n",
      "Missing 2 artists: ['Jose de Guimaraes', 'J.M.W. Turner']\n"
     ]
    }
   ],
   "source": [
    "print(f\"Found {len(example_returns)} artists\")\n",
    "found_names = [instance['name'] for instance in example_returns]\n",
    "missing = [name for name in example_names if name not in found_names]\n",
    "print(f\"Missing {len(missing)} artists: {missing}\")"
   ]
  },
  {
   "cell_type": "markdown",
   "metadata": {},
   "source": [
    "We managed to get data of 37 out of 39 artists, one missing is José de Guimarães, who was missed due to using an English-normalized name, and the other is J.M.W. Turner, whose name we queried in short form.<br>\n",
    "This is very reasonable.\n",
    "\n",
    "In fact, if we would use `get_all_person_info` for J.M.W. Turner, we would get a wrong instance, not the painter!"
   ]
  }
 ],
 "metadata": {
  "kernelspec": {
   "display_name": "3.10.11",
   "language": "python",
   "name": "python3"
  },
  "language_info": {
   "codemirror_mode": {
    "name": "ipython",
    "version": 3
   },
   "file_extension": ".py",
   "mimetype": "text/x-python",
   "name": "python",
   "nbconvert_exporter": "python",
   "pygments_lexer": "ipython3",
   "version": "3.10.11"
  }
 },
 "nbformat": 4,
 "nbformat_minor": 2
}
